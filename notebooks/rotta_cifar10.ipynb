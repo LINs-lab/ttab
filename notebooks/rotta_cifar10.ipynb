{
 "cells": [
  {
   "cell_type": "code",
   "execution_count": null,
   "metadata": {},
   "outputs": [],
   "source": [
    "%load_ext autoreload\n",
    "%autoreload 2"
   ]
  },
  {
   "cell_type": "code",
   "execution_count": null,
   "metadata": {},
   "outputs": [],
   "source": [
    "import sys\n",
    "sys.path.append('..')"
   ]
  },
  {
   "cell_type": "code",
   "execution_count": null,
   "metadata": {},
   "outputs": [],
   "source": [
    "import ttab.configs.utils as configs_utils\n",
    "import ttab.loads.define_dataset as define_dataset\n",
    "from ttab.benchmark import Benchmark\n",
    "from ttab.loads.define_model import define_model, load_pretrained_model\n",
    "from ttab.model_adaptation import get_model_adaptation_method\n",
    "from ttab.model_selection import get_model_selection_method\n",
    "from argparse import Namespace"
   ]
  },
  {
   "cell_type": "code",
   "execution_count": null,
   "metadata": {},
   "outputs": [],
   "source": [
    "cfg = Namespace(\n",
    "    job_name=\"rotta\",\n",
    "    job_id=None,\n",
    "    timestamp=None,\n",
    "    root_path=\"../logs\",\n",
    "    data_path=\"../datasets\",\n",
    "    ckpt_path=\"../resnet26_bn_ssh_cifar10.pth\",  # path to the pretrained model, can be downloaded from Google Drive\n",
    "    seed=2022,\n",
    "    device=\"cuda:0\",\n",
    "    num_cpus=2,\n",
    "    model_adaptation_method=\"rotta\",\n",
    "    model_selection_method=\"last_iterate\",\n",
    "    task=\"classification\",\n",
    "    test_scenario=\"PTTA_cifar10\",\n",
    "    base_data_name=\"cifar10\",\n",
    "    data_wise=\"batch_wise\",\n",
    "    batch_size=64,\n",
    "    lr=0.001,\n",
    "    n_train_steps=1,\n",
    "    offline_pre_adapt=False,\n",
    "    episodic=False,\n",
    "    domain_sampling_name=\"uniform\",\n",
    "    domain_sampling_ratio=1.0,\n",
    "    non_iid_pattern=\"class_wise_over_domain\",\n",
    "    non_iid_ness=0.1,\n",
    "    label_shift_param=None,\n",
    "    data_size=None,\n",
    "    fishers=False,\n",
    "    record_preadapted_perf=False,\n",
    "    grad_checkpoint=False,\n",
    "    debug=False,\n",
    "    data_names='',\n",
    "    entry_of_shared_layers=None,\n",
    "    group_norm_num_groups=None\n",
    ")"
   ]
  },
  {
   "cell_type": "code",
   "execution_count": null,
   "metadata": {},
   "outputs": [],
   "source": [
    "config, scenario = configs_utils.config_hparams(config=cfg)\n",
    "\n",
    "# Dataset\n",
    "test_data_cls = define_dataset.ConstructTestDataset(config=config)\n",
    "test_loader = test_data_cls.construct_test_loader(scenario=scenario)\n",
    "\n",
    "# Base model.\n",
    "model = define_model(config=config)\n",
    "load_pretrained_model(config=config, model=model)\n",
    "\n",
    "# Algorithms.\n",
    "model_adaptation_cls = get_model_adaptation_method(\n",
    "    adaptation_name=scenario.model_adaptation_method\n",
    ")(meta_conf=config, model=model)\n",
    "model_selection_cls = get_model_selection_method(selection_name=scenario.model_selection_method)(\n",
    "    meta_conf=config, model_adaptation_method=model_adaptation_cls\n",
    ")\n",
    "\n",
    "# Evaluate.\n",
    "benchmark = Benchmark(\n",
    "    scenario=scenario,\n",
    "    model_adaptation_cls=model_adaptation_cls,\n",
    "    model_selection_cls=model_selection_cls,\n",
    "    test_loader=test_loader,\n",
    "    meta_conf=config,\n",
    ")\n",
    "benchmark.eval()"
   ]
  }
 ],
 "metadata": {
  "kernelspec": {
   "display_name": "ttab",
   "language": "python",
   "name": "python3"
  },
  "language_info": {
   "codemirror_mode": {
    "name": "ipython",
    "version": 3
   },
   "file_extension": ".py",
   "mimetype": "text/x-python",
   "name": "python",
   "nbconvert_exporter": "python",
   "pygments_lexer": "ipython3",
   "version": "3.10.13"
  }
 },
 "nbformat": 4,
 "nbformat_minor": 2
}
